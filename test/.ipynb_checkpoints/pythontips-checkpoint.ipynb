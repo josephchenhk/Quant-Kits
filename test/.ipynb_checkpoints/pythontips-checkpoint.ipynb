{
 "cells": [
  {
   "cell_type": "markdown",
   "metadata": {},
   "source": [
    "# Python Tips\n",
    "\n",
    "This is a notes of [Python Tips](http://book.pythontips.com/en/latest/index.html).\n",
    "\n",
    "Updated by *Joseph*.\n"
   ]
  },
  {
   "cell_type": "markdown",
   "metadata": {},
   "source": [
    "## 1. `*`args and `**`kwargs\n",
    "\n",
    "(1). It is not necessary to write `*`args or `**`kwargs. Only the `*` (asterisk) is necessary.\n",
    "\n",
    "(2). `*`args can be used when you want to pass a **list** with unknown number of elements; while `**`kwargs is used when you want to pass a **dict** with unknown number of items.\n",
    "\n",
    "Examples as follows:"
   ]
  },
  {
   "cell_type": "code",
   "execution_count": 3,
   "metadata": {
    "collapsed": false
   },
   "outputs": [
    {
     "name": "stdout",
     "output_type": "stream",
     "text": [
      "first normal arg: yasoob\n",
      "another arg through *argv: python\n",
      "another arg through *argv: eggs\n",
      "another arg through *argv: test\n"
     ]
    }
   ],
   "source": [
    "def test_var_args(f_arg, *argv):\n",
    "    print(\"first normal arg:\", f_arg)\n",
    "    for arg in argv:\n",
    "        print(\"another arg through *argv:\", arg)\n",
    "test_var_args('yasoob', 'python', 'eggs', 'test')"
   ]
  },
  {
   "cell_type": "code",
   "execution_count": 4,
   "metadata": {
    "collapsed": false
   },
   "outputs": [
    {
     "name": "stdout",
     "output_type": "stream",
     "text": [
      "name = yasoob\n",
      "title = Mr.\n",
      "gender = male\n"
     ]
    }
   ],
   "source": [
    "def greet_me(**kwargs):\n",
    "    for key, value in kwargs.items():\n",
    "        print(\"{0} = {1}\".format(key, value))\n",
    "        \n",
    "greet_me(name=\"yasoob\",title=\"Mr.\",gender=\"male\")"
   ]
  },
  {
   "cell_type": "markdown",
   "metadata": {},
   "source": [
    "## 2. Debugging\n",
    "\n",
    "(1). **Running from commandline**\n",
    "\n",
    "You can run a script with debugger as below\n",
    "\n",
    "```python\n",
    "$ python -m pdb my_script.py\n",
    "```\n",
    "\n",
    "(2). **Running from inside a script**\n",
    "```python\n",
    "import pdb\n",
    "def make_bread():\n",
    "    pdb.set_trace()\n",
    "    return \"I don't have time\"\n",
    "\n",
    "print(make_bread())\n",
    "```\n",
    "\n",
    "Some commands of the debugger:\n",
    "\n",
    "+ c: continue execution\n",
    "\n",
    "+ w: shows the context of the current line it is executing.\n",
    "\n",
    "+ a: print the argument list of the current function\n",
    "\n",
    "+ s: Execute the current line and stop at the first possible occasion.\n",
    "\n",
    "- n: Continue execution until the next line in the current function is reached or it returns.\n"
   ]
  },
  {
   "cell_type": "code",
   "execution_count": 9,
   "metadata": {
    "collapsed": false
   },
   "outputs": [
    {
     "name": "stdout",
     "output_type": "stream",
     "text": [
      "> <ipython-input-9-5ef501d93aa8>(4)make_bread()\n",
      "-> return \"I don't have time\"\n",
      "(Pdb) c\n",
      "I don't have time\n"
     ]
    }
   ],
   "source": [
    "import pdb\n",
    "def make_bread():\n",
    "    pdb.set_trace()\n",
    "    return \"I don't have time\"\n",
    "\n",
    "print(make_bread())"
   ]
  },
  {
   "cell_type": "markdown",
   "metadata": {},
   "source": [
    "## 3. Generators\n",
    "\n",
    "(1). **iterable**\n",
    "\n",
    "e.g.: string \n",
    "\n",
    "methods: `__iter__`, `__getitem__`\n",
    "\n",
    "(2). **iterator**\n",
    "\n",
    "e.g.: generator\n",
    "\n",
    "methods: `__next__`\n",
    "\n",
    "(3). iter(iterable) -> iterator\n",
    "\n",
    "(4). generator use *yield*, and do not store in memory"
   ]
  },
  {
   "cell_type": "code",
   "execution_count": 21,
   "metadata": {
    "collapsed": false
   },
   "outputs": [
    {
     "name": "stdout",
     "output_type": "stream",
     "text": [
      "\n",
      "--------------\n",
      "generator is an iterator\n",
      "\n",
      "<generator object fibon_gen at 0x00000000052F45C8>\n",
      "1\n",
      "1\n",
      "2\n",
      "3\n",
      "5\n",
      "\n",
      "--------------\n",
      "string is an iterable\n",
      "\n",
      "I\n",
      " \n",
      "a\n",
      "m\n",
      " \n",
      "a\n",
      "n\n",
      " \n",
      "i\n",
      "t\n",
      "e\n",
      "r\n",
      "a\n",
      "b\n",
      "l\n",
      "e\n",
      ".\n"
     ]
    }
   ],
   "source": [
    "# generator version\n",
    "def fibon_gen(n):\n",
    "    a = b = 1\n",
    "    for i in range(n):\n",
    "        yield a\n",
    "        a, b = b, a + b\n",
    "        \n",
    "gen = fibon_gen(5)\n",
    "print(\"\\n--------------\\ngenerator is an iterator\\n\")\n",
    "print(gen)\n",
    "for n in range(5):\n",
    "    print(next(gen))\n",
    "\n",
    "print(\"\\n--------------\\nstring is an iterable\\n\")\n",
    "test_str = \"I am an iterable.\"\n",
    "test_str_gen = iter(test_str)\n",
    "for n in range(len(test_str)):\n",
    "    print(next(test_str_gen))\n"
   ]
  },
  {
   "cell_type": "markdown",
   "metadata": {},
   "source": [
    "\n",
    "## 4. Map, Filter and Reduce"
   ]
  },
  {
   "cell_type": "markdown",
   "metadata": {},
   "source": [
    "### 4.1. Map"
   ]
  },
  {
   "cell_type": "markdown",
   "metadata": {},
   "source": [
    "\n",
    "Usage: map(function_to_apply, list_of_inputs)\n",
    "\n",
    "Example:"
   ]
  },
  {
   "cell_type": "code",
   "execution_count": 22,
   "metadata": {
    "collapsed": false
   },
   "outputs": [
    {
     "data": {
      "text/plain": [
       "[1, 4, 9, 16, 25]"
      ]
     },
     "execution_count": 22,
     "metadata": {},
     "output_type": "execute_result"
    }
   ],
   "source": [
    "items = [1, 2, 3, 4, 5]\n",
    "list(map(lambda x: x**2, items))"
   ]
  },
  {
   "cell_type": "code",
   "execution_count": 23,
   "metadata": {
    "collapsed": false
   },
   "outputs": [
    {
     "data": {
      "text/plain": [
       "[1, 4, 9, 16, 25]"
      ]
     },
     "execution_count": 23,
     "metadata": {},
     "output_type": "execute_result"
    }
   ],
   "source": [
    "def squared(x):\n",
    "    return x**2\n",
    "list(map(squared, items))"
   ]
  },
  {
   "cell_type": "markdown",
   "metadata": {},
   "source": [
    "### 4.2. Filter"
   ]
  },
  {
   "cell_type": "markdown",
   "metadata": {},
   "source": [
    "Usage: filter(function_mask, list_of_inputs)\n",
    "\n",
    "Example:"
   ]
  },
  {
   "cell_type": "code",
   "execution_count": 24,
   "metadata": {
    "collapsed": false
   },
   "outputs": [
    {
     "data": {
      "text/plain": [
       "[1, 2]"
      ]
     },
     "execution_count": 24,
     "metadata": {},
     "output_type": "execute_result"
    }
   ],
   "source": [
    "items = [1,2,3,4,5]\n",
    "list(filter(lambda x: x<3, items))"
   ]
  },
  {
   "cell_type": "code",
   "execution_count": 25,
   "metadata": {
    "collapsed": false
   },
   "outputs": [
    {
     "data": {
      "text/plain": [
       "[1, 2]"
      ]
     },
     "execution_count": 25,
     "metadata": {},
     "output_type": "execute_result"
    }
   ],
   "source": [
    "def less_than(x, y=3):\n",
    "    return (x<y)\n",
    "list(filter(less_than, items))"
   ]
  },
  {
   "cell_type": "markdown",
   "metadata": {},
   "source": [
    "### 4.3. Reduce"
   ]
  },
  {
   "cell_type": "markdown",
   "metadata": {},
   "source": [
    "Usage: filter(function_to_apply, list_of_inputs) \n",
    "\n",
    "Example:"
   ]
  },
  {
   "cell_type": "code",
   "execution_count": 26,
   "metadata": {
    "collapsed": true
   },
   "outputs": [],
   "source": [
    "from functools import reduce"
   ]
  },
  {
   "cell_type": "code",
   "execution_count": 27,
   "metadata": {
    "collapsed": false
   },
   "outputs": [
    {
     "data": {
      "text/plain": [
       "120"
      ]
     },
     "execution_count": 27,
     "metadata": {},
     "output_type": "execute_result"
    }
   ],
   "source": [
    "items = [1,2,3,4,5]\n",
    "reduce(lambda x,y: x*y, items)"
   ]
  },
  {
   "cell_type": "code",
   "execution_count": 28,
   "metadata": {
    "collapsed": false
   },
   "outputs": [
    {
     "data": {
      "text/plain": [
       "120"
      ]
     },
     "execution_count": 28,
     "metadata": {},
     "output_type": "execute_result"
    }
   ],
   "source": [
    "def factor(x, y):\n",
    "    return (x*y)\n",
    "reduce(factor, items)"
   ]
  },
  {
   "cell_type": "markdown",
   "metadata": {},
   "source": [
    "## 5. *set* Data Structure"
   ]
  },
  {
   "cell_type": "markdown",
   "metadata": {},
   "source": [
    "### 5.1. set method\n",
    "\n",
    "*set* removes the dupicated values of a list.\n",
    "\n",
    "Usage: set(input_list) gives the unique values of input_list\n",
    "\n",
    "Example:"
   ]
  },
  {
   "cell_type": "code",
   "execution_count": 29,
   "metadata": {
    "collapsed": true
   },
   "outputs": [],
   "source": [
    "valid = set(['yellow', 'red', 'blue', 'green', 'black', 'yellow', 'red', 'green', 'yellow'])\n",
    "input_set = set(['red', 'brown', 'green'])"
   ]
  },
  {
   "cell_type": "code",
   "execution_count": 30,
   "metadata": {
    "collapsed": false
   },
   "outputs": [
    {
     "data": {
      "text/plain": [
       "{'black', 'blue', 'green', 'red', 'yellow'}"
      ]
     },
     "execution_count": 30,
     "metadata": {},
     "output_type": "execute_result"
    }
   ],
   "source": [
    "valid"
   ]
  },
  {
   "cell_type": "code",
   "execution_count": 31,
   "metadata": {
    "collapsed": false
   },
   "outputs": [
    {
     "data": {
      "text/plain": [
       "{'brown', 'green', 'red'}"
      ]
     },
     "execution_count": 31,
     "metadata": {},
     "output_type": "execute_result"
    }
   ],
   "source": [
    "input_set"
   ]
  },
  {
   "cell_type": "markdown",
   "metadata": {},
   "source": [
    "### 5.2. `intersection` method"
   ]
  },
  {
   "cell_type": "code",
   "execution_count": 32,
   "metadata": {
    "collapsed": false
   },
   "outputs": [
    {
     "data": {
      "text/plain": [
       "{'green', 'red'}"
      ]
     },
     "execution_count": 32,
     "metadata": {},
     "output_type": "execute_result"
    }
   ],
   "source": [
    "input_set.intersection(valid)"
   ]
  },
  {
   "cell_type": "code",
   "execution_count": 33,
   "metadata": {
    "collapsed": false
   },
   "outputs": [
    {
     "data": {
      "text/plain": [
       "{'green', 'red'}"
      ]
     },
     "execution_count": 33,
     "metadata": {},
     "output_type": "execute_result"
    }
   ],
   "source": [
    "valid.intersection(input_set)"
   ]
  },
  {
   "cell_type": "markdown",
   "metadata": {},
   "source": [
    "### 5.3. `difference` method"
   ]
  },
  {
   "cell_type": "code",
   "execution_count": 34,
   "metadata": {
    "collapsed": false
   },
   "outputs": [
    {
     "data": {
      "text/plain": [
       "{'brown'}"
      ]
     },
     "execution_count": 34,
     "metadata": {},
     "output_type": "execute_result"
    }
   ],
   "source": [
    "input_set.difference(valid)"
   ]
  },
  {
   "cell_type": "code",
   "execution_count": 35,
   "metadata": {
    "collapsed": false
   },
   "outputs": [
    {
     "data": {
      "text/plain": [
       "{'black', 'blue', 'yellow'}"
      ]
     },
     "execution_count": 35,
     "metadata": {},
     "output_type": "execute_result"
    }
   ],
   "source": [
    "valid.difference(input_set)"
   ]
  },
  {
   "cell_type": "markdown",
   "metadata": {},
   "source": [
    "## 6. Ternary Operators"
   ]
  },
  {
   "cell_type": "markdown",
   "metadata": {},
   "source": [
    "### 6.1. in one line\n",
    "\n",
    "Usage: condition_is_true if condition else condition_is_false\n",
    "\n",
    "Example:"
   ]
  },
  {
   "cell_type": "code",
   "execution_count": 36,
   "metadata": {
    "collapsed": false
   },
   "outputs": [
    {
     "data": {
      "text/plain": [
       "'fat'"
      ]
     },
     "execution_count": 36,
     "metadata": {},
     "output_type": "execute_result"
    }
   ],
   "source": [
    "is_fat = True\n",
    "state = \"fat\" if is_fat else \"not fat\"\n",
    "state"
   ]
  },
  {
   "cell_type": "markdown",
   "metadata": {},
   "source": [
    "### 6.2. in tuple\n",
    "\n",
    "Usage: (if_test_is_false, if_test_is_true)[test]\n",
    "\n",
    "Example:    　　"
   ]
  },
  {
   "cell_type": "code",
   "execution_count": 37,
   "metadata": {
    "collapsed": false
   },
   "outputs": [
    {
     "name": "stdout",
     "output_type": "stream",
     "text": [
      "Ali is  fat\n"
     ]
    }
   ],
   "source": [
    "fat = True\n",
    "fitness = (\"skinny\", \"fat\")[fat]\n",
    "print(\"Ali is \", fitness)"
   ]
  },
  {
   "cell_type": "markdown",
   "metadata": {},
   "source": [
    "**Explanation** This works simply because True == 1 and False == 0, and so can be done with lists in addition to tuples."
   ]
  },
  {
   "cell_type": "markdown",
   "metadata": {},
   "source": [
    "## 7. Decorator"
   ]
  },
  {
   "cell_type": "code",
   "execution_count": null,
   "metadata": {
    "collapsed": true
   },
   "outputs": [],
   "source": []
  }
 ],
 "metadata": {
  "kernelspec": {
   "display_name": "Python 3",
   "language": "python",
   "name": "python3"
  },
  "language_info": {
   "codemirror_mode": {
    "name": "ipython",
    "version": 3
   },
   "file_extension": ".py",
   "mimetype": "text/x-python",
   "name": "python",
   "nbconvert_exporter": "python",
   "pygments_lexer": "ipython3",
   "version": "3.6.0"
  }
 },
 "nbformat": 4,
 "nbformat_minor": 2
}
