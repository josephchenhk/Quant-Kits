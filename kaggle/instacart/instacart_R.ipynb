{
 "cells": [
  {
   "cell_type": "markdown",
   "metadata": {},
   "source": [
    "# Instacart Market Basket Analysis\n",
    "\n",
    "### Read in the data"
   ]
  },
  {
   "cell_type": "code",
   "execution_count": 7,
   "metadata": {
    "collapsed": true
   },
   "outputs": [],
   "source": [
    "# data_path <- \"C:/Users/joseph.chen/MyData/Kaggle/instacart/\"\n",
    "data_path <- read.table(\"data/README.txt\")$V1"
   ]
  },
  {
   "cell_type": "code",
   "execution_count": 8,
   "metadata": {
    "collapsed": false
   },
   "outputs": [
    {
     "data": {
      "text/html": [
       "'C:\\\\Users\\\\joseph.chen\\\\MyData\\\\Kaggle\\\\instacart\\\\orders.csv'"
      ],
      "text/latex": [
       "'C:\\textbackslash{}\\textbackslash{}Users\\textbackslash{}\\textbackslash{}joseph.chen\\textbackslash{}\\textbackslash{}MyData\\textbackslash{}\\textbackslash{}Kaggle\\textbackslash{}\\textbackslash{}instacart\\textbackslash{}\\textbackslash{}orders.csv'"
      ],
      "text/markdown": [
       "'C:\\\\Users\\\\joseph.chen\\\\MyData\\\\Kaggle\\\\instacart\\\\orders.csv'"
      ],
      "text/plain": [
       "[1] \"C:\\\\Users\\\\joseph.chen\\\\MyData\\\\Kaggle\\\\instacart\\\\orders.csv\""
      ]
     },
     "metadata": {},
     "output_type": "display_data"
    }
   ],
   "source": [
    "paste(data_path,\"orders.csv\", sep=\"\")"
   ]
  },
  {
   "cell_type": "code",
   "execution_count": 9,
   "metadata": {
    "collapsed": false
   },
   "outputs": [],
   "source": [
    "orders <- read.csv(paste(data_path,\"orders.csv\", sep=\"\"))\n",
    "products <- read.csv(paste(data_path,\"products.csv\", sep=\"\"))\n",
    "order_products <- read.csv(paste(data_path,\"order_products__train.csv\", sep=\"\"))\n",
    "order_products_prior <- read.csv(paste(data_path,\"order_products__prior.csv\", sep=\"\"))\n",
    "aisles <- read.csv(paste(data_path,\"aisles.csv\", sep=\"\"))\n",
    "departments <- read.csv(paste(data_path,\"departments.csv\", sep=\"\"))"
   ]
  },
  {
   "cell_type": "markdown",
   "metadata": {},
   "source": [
    "### Peek at the dataset"
   ]
  },
  {
   "cell_type": "code",
   "execution_count": 4,
   "metadata": {
    "collapsed": false
   },
   "outputs": [
    {
     "data": {
      "text/html": [
       "<table>\n",
       "<thead><tr><th scope=col>order_id</th><th scope=col>user_id</th><th scope=col>eval_set</th><th scope=col>order_number</th><th scope=col>order_dow</th><th scope=col>order_hour_of_day</th><th scope=col>days_since_prior_order</th></tr></thead>\n",
       "<tbody>\n",
       "\t<tr><td>2539329</td><td>1      </td><td>prior  </td><td>1      </td><td>2      </td><td> 8     </td><td>NA     </td></tr>\n",
       "\t<tr><td>2398795</td><td>1      </td><td>prior  </td><td>2      </td><td>3      </td><td> 7     </td><td>15     </td></tr>\n",
       "\t<tr><td> 473747</td><td>1      </td><td>prior  </td><td>3      </td><td>3      </td><td>12     </td><td>21     </td></tr>\n",
       "</tbody>\n",
       "</table>\n"
      ],
      "text/latex": [
       "\\begin{tabular}{r|lllllll}\n",
       " order\\_id & user\\_id & eval\\_set & order\\_number & order\\_dow & order\\_hour\\_of\\_day & days\\_since\\_prior\\_order\\\\\n",
       "\\hline\n",
       "\t 2539329 & 1       & prior   & 1       & 2       &  8      & NA     \\\\\n",
       "\t 2398795 & 1       & prior   & 2       & 3       &  7      & 15     \\\\\n",
       "\t  473747 & 1       & prior   & 3       & 3       & 12      & 21     \\\\\n",
       "\\end{tabular}\n"
      ],
      "text/markdown": [
       "\n",
       "order_id | user_id | eval_set | order_number | order_dow | order_hour_of_day | days_since_prior_order | \n",
       "|---|---|---|\n",
       "| 2539329 | 1       | prior   | 1       | 2       |  8      | NA      | \n",
       "| 2398795 | 1       | prior   | 2       | 3       |  7      | 15      | \n",
       "|  473747 | 1       | prior   | 3       | 3       | 12      | 21      | \n",
       "\n",
       "\n"
      ],
      "text/plain": [
       "  order_id user_id eval_set order_number order_dow order_hour_of_day\n",
       "1 2539329  1       prior    1            2          8               \n",
       "2 2398795  1       prior    2            3          7               \n",
       "3  473747  1       prior    3            3         12               \n",
       "  days_since_prior_order\n",
       "1 NA                    \n",
       "2 15                    \n",
       "3 21                    "
      ]
     },
     "metadata": {},
     "output_type": "display_data"
    }
   ],
   "source": [
    "head(orders,3)"
   ]
  },
  {
   "cell_type": "code",
   "execution_count": 5,
   "metadata": {
    "collapsed": false
   },
   "outputs": [
    {
     "data": {
      "text/html": [
       "<table>\n",
       "<thead><tr><th scope=col>product_id</th><th scope=col>product_name</th><th scope=col>aisle_id</th><th scope=col>department_id</th></tr></thead>\n",
       "<tbody>\n",
       "\t<tr><td>1                                   </td><td>Chocolate Sandwich Cookies          </td><td> 61                                 </td><td>19                                  </td></tr>\n",
       "\t<tr><td>2                                   </td><td>All-Seasons Salt                    </td><td>104                                 </td><td>13                                  </td></tr>\n",
       "\t<tr><td>3                                   </td><td>Robust Golden Unsweetened Oolong Tea</td><td> 94                                 </td><td> 7                                  </td></tr>\n",
       "</tbody>\n",
       "</table>\n"
      ],
      "text/latex": [
       "\\begin{tabular}{r|llll}\n",
       " product\\_id & product\\_name & aisle\\_id & department\\_id\\\\\n",
       "\\hline\n",
       "\t 1                                    & Chocolate Sandwich Cookies           &  61                                  & 19                                  \\\\\n",
       "\t 2                                    & All-Seasons Salt                     & 104                                  & 13                                  \\\\\n",
       "\t 3                                    & Robust Golden Unsweetened Oolong Tea &  94                                  &  7                                  \\\\\n",
       "\\end{tabular}\n"
      ],
      "text/markdown": [
       "\n",
       "product_id | product_name | aisle_id | department_id | \n",
       "|---|---|---|\n",
       "| 1                                    | Chocolate Sandwich Cookies           |  61                                  | 19                                   | \n",
       "| 2                                    | All-Seasons Salt                     | 104                                  | 13                                   | \n",
       "| 3                                    | Robust Golden Unsweetened Oolong Tea |  94                                  |  7                                   | \n",
       "\n",
       "\n"
      ],
      "text/plain": [
       "  product_id product_name                         aisle_id department_id\n",
       "1 1          Chocolate Sandwich Cookies            61      19           \n",
       "2 2          All-Seasons Salt                     104      13           \n",
       "3 3          Robust Golden Unsweetened Oolong Tea  94       7           "
      ]
     },
     "metadata": {},
     "output_type": "display_data"
    }
   ],
   "source": [
    "head(products,3)"
   ]
  },
  {
   "cell_type": "code",
   "execution_count": 7,
   "metadata": {
    "collapsed": false
   },
   "outputs": [
    {
     "data": {
      "text/html": [
       "<table>\n",
       "<thead><tr><th scope=col>order_id</th><th scope=col>product_id</th><th scope=col>add_to_cart_order</th><th scope=col>reordered</th></tr></thead>\n",
       "<tbody>\n",
       "\t<tr><td>1    </td><td>49302</td><td>1    </td><td>1    </td></tr>\n",
       "\t<tr><td>1    </td><td>11109</td><td>2    </td><td>1    </td></tr>\n",
       "\t<tr><td>1    </td><td>10246</td><td>3    </td><td>0    </td></tr>\n",
       "</tbody>\n",
       "</table>\n"
      ],
      "text/latex": [
       "\\begin{tabular}{r|llll}\n",
       " order\\_id & product\\_id & add\\_to\\_cart\\_order & reordered\\\\\n",
       "\\hline\n",
       "\t 1     & 49302 & 1     & 1    \\\\\n",
       "\t 1     & 11109 & 2     & 1    \\\\\n",
       "\t 1     & 10246 & 3     & 0    \\\\\n",
       "\\end{tabular}\n"
      ],
      "text/markdown": [
       "\n",
       "order_id | product_id | add_to_cart_order | reordered | \n",
       "|---|---|---|\n",
       "| 1     | 49302 | 1     | 1     | \n",
       "| 1     | 11109 | 2     | 1     | \n",
       "| 1     | 10246 | 3     | 0     | \n",
       "\n",
       "\n"
      ],
      "text/plain": [
       "  order_id product_id add_to_cart_order reordered\n",
       "1 1        49302      1                 1        \n",
       "2 1        11109      2                 1        \n",
       "3 1        10246      3                 0        "
      ]
     },
     "metadata": {},
     "output_type": "display_data"
    }
   ],
   "source": [
    "head(order_products,3)"
   ]
  },
  {
   "cell_type": "code",
   "execution_count": 8,
   "metadata": {
    "collapsed": false
   },
   "outputs": [
    {
     "data": {
      "text/html": [
       "<table>\n",
       "<thead><tr><th scope=col>order_id</th><th scope=col>product_id</th><th scope=col>add_to_cart_order</th><th scope=col>reordered</th></tr></thead>\n",
       "<tbody>\n",
       "\t<tr><td>2    </td><td>33120</td><td>1    </td><td>1    </td></tr>\n",
       "\t<tr><td>2    </td><td>28985</td><td>2    </td><td>1    </td></tr>\n",
       "\t<tr><td>2    </td><td> 9327</td><td>3    </td><td>0    </td></tr>\n",
       "</tbody>\n",
       "</table>\n"
      ],
      "text/latex": [
       "\\begin{tabular}{r|llll}\n",
       " order\\_id & product\\_id & add\\_to\\_cart\\_order & reordered\\\\\n",
       "\\hline\n",
       "\t 2     & 33120 & 1     & 1    \\\\\n",
       "\t 2     & 28985 & 2     & 1    \\\\\n",
       "\t 2     &  9327 & 3     & 0    \\\\\n",
       "\\end{tabular}\n"
      ],
      "text/markdown": [
       "\n",
       "order_id | product_id | add_to_cart_order | reordered | \n",
       "|---|---|---|\n",
       "| 2     | 33120 | 1     | 1     | \n",
       "| 2     | 28985 | 2     | 1     | \n",
       "| 2     |  9327 | 3     | 0     | \n",
       "\n",
       "\n"
      ],
      "text/plain": [
       "  order_id product_id add_to_cart_order reordered\n",
       "1 2        33120      1                 1        \n",
       "2 2        28985      2                 1        \n",
       "3 2         9327      3                 0        "
      ]
     },
     "metadata": {},
     "output_type": "display_data"
    }
   ],
   "source": [
    "head(order_products_prior,3)"
   ]
  },
  {
   "cell_type": "code",
   "execution_count": 9,
   "metadata": {
    "collapsed": false
   },
   "outputs": [
    {
     "data": {
      "text/html": [
       "<table>\n",
       "<thead><tr><th scope=col>aisle_id</th><th scope=col>aisle</th></tr></thead>\n",
       "<tbody>\n",
       "\t<tr><td>1                    </td><td>prepared soups salads</td></tr>\n",
       "\t<tr><td>2                    </td><td>specialty cheeses    </td></tr>\n",
       "\t<tr><td>3                    </td><td>energy granola bars  </td></tr>\n",
       "</tbody>\n",
       "</table>\n"
      ],
      "text/latex": [
       "\\begin{tabular}{r|ll}\n",
       " aisle\\_id & aisle\\\\\n",
       "\\hline\n",
       "\t 1                     & prepared soups salads\\\\\n",
       "\t 2                     & specialty cheeses    \\\\\n",
       "\t 3                     & energy granola bars  \\\\\n",
       "\\end{tabular}\n"
      ],
      "text/markdown": [
       "\n",
       "aisle_id | aisle | \n",
       "|---|---|---|\n",
       "| 1                     | prepared soups salads | \n",
       "| 2                     | specialty cheeses     | \n",
       "| 3                     | energy granola bars   | \n",
       "\n",
       "\n"
      ],
      "text/plain": [
       "  aisle_id aisle                \n",
       "1 1        prepared soups salads\n",
       "2 2        specialty cheeses    \n",
       "3 3        energy granola bars  "
      ]
     },
     "metadata": {},
     "output_type": "display_data"
    }
   ],
   "source": [
    "head(aisles,3)"
   ]
  },
  {
   "cell_type": "code",
   "execution_count": 10,
   "metadata": {
    "collapsed": false
   },
   "outputs": [
    {
     "data": {
      "text/html": [
       "<table>\n",
       "<thead><tr><th scope=col>department_id</th><th scope=col>department</th></tr></thead>\n",
       "<tbody>\n",
       "\t<tr><td>1     </td><td>frozen</td></tr>\n",
       "\t<tr><td>2     </td><td>other </td></tr>\n",
       "\t<tr><td>3     </td><td>bakery</td></tr>\n",
       "</tbody>\n",
       "</table>\n"
      ],
      "text/latex": [
       "\\begin{tabular}{r|ll}\n",
       " department\\_id & department\\\\\n",
       "\\hline\n",
       "\t 1      & frozen\\\\\n",
       "\t 2      & other \\\\\n",
       "\t 3      & bakery\\\\\n",
       "\\end{tabular}\n"
      ],
      "text/markdown": [
       "\n",
       "department_id | department | \n",
       "|---|---|---|\n",
       "| 1      | frozen | \n",
       "| 2      | other  | \n",
       "| 3      | bakery | \n",
       "\n",
       "\n"
      ],
      "text/plain": [
       "  department_id department\n",
       "1 1             frozen    \n",
       "2 2             other     \n",
       "3 3             bakery    "
      ]
     },
     "metadata": {},
     "output_type": "display_data"
    }
   ],
   "source": [
    "head(departments,3)"
   ]
  },
  {
   "cell_type": "code",
   "execution_count": null,
   "metadata": {
    "collapsed": true
   },
   "outputs": [],
   "source": []
  },
  {
   "cell_type": "code",
   "execution_count": 4,
   "metadata": {
    "collapsed": false
   },
   "outputs": [],
   "source": [
    "library(data.table)\n",
    "library(dplyr)\n",
    "library(ggplot2)\n",
    "library(knitr)\n",
    "library(stringr)"
   ]
  },
  {
   "cell_type": "code",
   "execution_count": 12,
   "metadata": {
    "collapsed": false
   },
   "outputs": [
    {
     "name": "stderr",
     "output_type": "stream",
     "text": [
      "Warning message:\n",
      "\"Ignoring unknown parameters: binwidth, bins, pad\""
     ]
    },
    {
     "data": {},
     "metadata": {},
     "output_type": "display_data"
    },
    {
     "data": {
      "image/png": "[encoded data removed]",
      "text/plain": [
       "plot without title"
      ]
     },
     "metadata": {},
     "output_type": "display_data"
    }
   ],
   "source": [
    "orders %>% ggplot(aes(x=order_hour_of_day))+geom_histogram(stat=\"count\",fill=\"blue\")"
   ]
  },
  {
   "cell_type": "code",
   "execution_count": null,
   "metadata": {
    "collapsed": true
   },
   "outputs": [],
   "source": []
  }
 ],
 "metadata": {
  "kernelspec": {
   "display_name": "R",
   "language": "R",
   "name": "ir"
  },
  "language_info": {
   "codemirror_mode": "r",
   "file_extension": ".r",
   "mimetype": "text/x-r-source",
   "name": "R",
   "pygments_lexer": "r",
   "version": "3.3.2"
  }
 },
 "nbformat": 4,
 "nbformat_minor": 2
}
