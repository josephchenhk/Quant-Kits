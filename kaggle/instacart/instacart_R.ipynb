{
 "cells": [
  {
   "cell_type": "markdown",
   "metadata": {},
   "source": [
    "# Instacart Market Basket Analysis\n",
    "\n",
    "### Read in the data"
   ]
  },
  {
   "cell_type": "code",
   "execution_count": 4,
   "metadata": {
    "collapsed": true
   },
   "outputs": [],
   "source": [
    "# data_path <- \"C:/Users/joseph.chen/MyData/Kaggle/instacart/\"\n",
    "data_path <- read.table(\"data/README.txt\")$V1"
   ]
  },
  {
   "cell_type": "code",
   "execution_count": 5,
   "metadata": {
    "collapsed": false
   },
   "outputs": [
    {
     "data": {
      "text/html": [
       "'C:\\Users\\joseph.chen\\MyData\\Kaggle\\instacart\\orders.csv'"
      ],
      "text/latex": [
       "'C:\\textbackslash{}Users\\textbackslash{}joseph.chen\\textbackslash{}MyData\\textbackslash{}Kaggle\\textbackslash{}instacart\\textbackslash{}orders.csv'"
      ],
      "text/markdown": [
       "'C:\\Users\\joseph.chen\\MyData\\Kaggle\\instacart\\orders.csv'"
      ],
      "text/plain": [
       "[1] \"C:\\\\Users\\\\joseph.chen\\\\MyData\\\\Kaggle\\\\instacart\\\\orders.csv\""
      ]
     },
     "metadata": {},
     "output_type": "display_data"
    }
   ],
   "source": [
    "paste(data_path,\"orders.csv\", sep=\"\")"
   ]
  },
  {
   "cell_type": "code",
   "execution_count": 6,
   "metadata": {
    "collapsed": false
   },
   "outputs": [],
   "source": [
    "orders <- read.csv(paste(data_path,\"orders.csv\", sep=\"\"))\n",
    "products <- read.csv(paste(data_path,\"products.csv\", sep=\"\"))\n",
    "order_products <- read.csv(paste(data_path,\"order_products__train.csv\", sep=\"\"))\n",
    "order_products_prior <- read.csv(paste(data_path,\"order_products__prior.csv\", sep=\"\"))\n",
    "aisles <- read.csv(paste(data_path,\"aisles.csv\", sep=\"\"))\n",
    "departments <- read.csv(paste(data_path,\"departments.csv\", sep=\"\"))"
   ]
  },
  {
   "cell_type": "markdown",
   "metadata": {},
   "source": [
    "### Peek at the dataset"
   ]
  },
  {
   "cell_type": "code",
   "execution_count": 7,
   "metadata": {
    "collapsed": false
   },
   "outputs": [
    {
     "data": {
      "text/html": [
       "<table>\n",
       "<thead><tr><th scope=col>order_id</th><th scope=col>user_id</th><th scope=col>eval_set</th><th scope=col>order_number</th><th scope=col>order_dow</th><th scope=col>order_hour_of_day</th><th scope=col>days_since_prior_order</th></tr></thead>\n",
       "<tbody>\n",
       "\t<tr><td>2539329</td><td>1      </td><td>prior  </td><td>1      </td><td>2      </td><td> 8     </td><td>NA     </td></tr>\n",
       "\t<tr><td>2398795</td><td>1      </td><td>prior  </td><td>2      </td><td>3      </td><td> 7     </td><td>15     </td></tr>\n",
       "\t<tr><td> 473747</td><td>1      </td><td>prior  </td><td>3      </td><td>3      </td><td>12     </td><td>21     </td></tr>\n",
       "</tbody>\n",
       "</table>\n"
      ],
      "text/latex": [
       "\\begin{tabular}{r|lllllll}\n",
       " order\\_id & user\\_id & eval\\_set & order\\_number & order\\_dow & order\\_hour\\_of\\_day & days\\_since\\_prior\\_order\\\\\n",
       "\\hline\n",
       "\t 2539329 & 1       & prior   & 1       & 2       &  8      & NA     \\\\\n",
       "\t 2398795 & 1       & prior   & 2       & 3       &  7      & 15     \\\\\n",
       "\t  473747 & 1       & prior   & 3       & 3       & 12      & 21     \\\\\n",
       "\\end{tabular}\n"
      ],
      "text/markdown": [
       "\n",
       "order_id | user_id | eval_set | order_number | order_dow | order_hour_of_day | days_since_prior_order | \n",
       "|---|---|---|\n",
       "| 2539329 | 1       | prior   | 1       | 2       |  8      | NA      | \n",
       "| 2398795 | 1       | prior   | 2       | 3       |  7      | 15      | \n",
       "|  473747 | 1       | prior   | 3       | 3       | 12      | 21      | \n",
       "\n",
       "\n"
      ],
      "text/plain": [
       "  order_id user_id eval_set order_number order_dow order_hour_of_day\n",
       "1 2539329  1       prior    1            2          8               \n",
       "2 2398795  1       prior    2            3          7               \n",
       "3  473747  1       prior    3            3         12               \n",
       "  days_since_prior_order\n",
       "1 NA                    \n",
       "2 15                    \n",
       "3 21                    "
      ]
     },
     "metadata": {},
     "output_type": "display_data"
    }
   ],
   "source": [
    "head(orders,3)"
   ]
  },
  {
   "cell_type": "code",
   "execution_count": 8,
   "metadata": {
    "collapsed": false
   },
   "outputs": [
    {
     "data": {
      "text/html": [
       "<table>\n",
       "<thead><tr><th scope=col>product_id</th><th scope=col>product_name</th><th scope=col>aisle_id</th><th scope=col>department_id</th></tr></thead>\n",
       "<tbody>\n",
       "\t<tr><td>1                                   </td><td>Chocolate Sandwich Cookies          </td><td> 61                                 </td><td>19                                  </td></tr>\n",
       "\t<tr><td>2                                   </td><td>All-Seasons Salt                    </td><td>104                                 </td><td>13                                  </td></tr>\n",
       "\t<tr><td>3                                   </td><td>Robust Golden Unsweetened Oolong Tea</td><td> 94                                 </td><td> 7                                  </td></tr>\n",
       "</tbody>\n",
       "</table>\n"
      ],
      "text/latex": [
       "\\begin{tabular}{r|llll}\n",
       " product\\_id & product\\_name & aisle\\_id & department\\_id\\\\\n",
       "\\hline\n",
       "\t 1                                    & Chocolate Sandwich Cookies           &  61                                  & 19                                  \\\\\n",
       "\t 2                                    & All-Seasons Salt                     & 104                                  & 13                                  \\\\\n",
       "\t 3                                    & Robust Golden Unsweetened Oolong Tea &  94                                  &  7                                  \\\\\n",
       "\\end{tabular}\n"
      ],
      "text/markdown": [
       "\n",
       "product_id | product_name | aisle_id | department_id | \n",
       "|---|---|---|\n",
       "| 1                                    | Chocolate Sandwich Cookies           |  61                                  | 19                                   | \n",
       "| 2                                    | All-Seasons Salt                     | 104                                  | 13                                   | \n",
       "| 3                                    | Robust Golden Unsweetened Oolong Tea |  94                                  |  7                                   | \n",
       "\n",
       "\n"
      ],
      "text/plain": [
       "  product_id product_name                         aisle_id department_id\n",
       "1 1          Chocolate Sandwich Cookies            61      19           \n",
       "2 2          All-Seasons Salt                     104      13           \n",
       "3 3          Robust Golden Unsweetened Oolong Tea  94       7           "
      ]
     },
     "metadata": {},
     "output_type": "display_data"
    }
   ],
   "source": [
    "head(products,3)"
   ]
  },
  {
   "cell_type": "code",
   "execution_count": null,
   "metadata": {
    "collapsed": true
   },
   "outputs": [],
   "source": []
  }
 ],
 "metadata": {
  "kernelspec": {
   "display_name": "R",
   "language": "R",
   "name": "ir"
  },
  "language_info": {
   "codemirror_mode": "r",
   "file_extension": ".r",
   "mimetype": "text/x-r-source",
   "name": "R",
   "pygments_lexer": "r",
   "version": "3.2.0"
  }
 },
 "nbformat": 4,
 "nbformat_minor": 2
}
