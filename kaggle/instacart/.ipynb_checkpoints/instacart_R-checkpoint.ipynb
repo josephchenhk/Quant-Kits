{
 "cells": [
  {
   "cell_type": "markdown",
   "metadata": {},
   "source": [
    "# Instacart Market Basket Analysis\n",
    "\n",
    "### Read in the data"
   ]
  },
  {
   "cell_type": "code",
   "execution_count": 1,
   "metadata": {
    "collapsed": true
   },
   "outputs": [],
   "source": [
    "# data_path <- \"C:/Users/joseph.chen/MyData/Kaggle/instacart/\"\n",
    "data_path <- read.table(\"data/README.txt\")$V1"
   ]
  },
  {
   "cell_type": "code",
   "execution_count": 2,
   "metadata": {
    "collapsed": false
   },
   "outputs": [
    {
     "data": {
      "text/html": [
       "'C:\\Users\\joseph.chen\\MyData\\Kaggle\\instacart\\orders.csv'"
      ],
      "text/latex": [
       "'C:\\textbackslash{}Users\\textbackslash{}joseph.chen\\textbackslash{}MyData\\textbackslash{}Kaggle\\textbackslash{}instacart\\textbackslash{}orders.csv'"
      ],
      "text/markdown": [
       "'C:\\Users\\joseph.chen\\MyData\\Kaggle\\instacart\\orders.csv'"
      ],
      "text/plain": [
       "[1] \"C:\\\\Users\\\\joseph.chen\\\\MyData\\\\Kaggle\\\\instacart\\\\orders.csv\""
      ]
     },
     "metadata": {},
     "output_type": "display_data"
    }
   ],
   "source": [
    "paste(data_path,\"orders.csv\", sep=\"\")"
   ]
  },
  {
   "cell_type": "code",
   "execution_count": null,
   "metadata": {
    "collapsed": false
   },
   "outputs": [],
   "source": [
    "orders <- read.csv(paste(data_path,\"orders.csv\", sep=\"\"))\n",
    "products <- read.csv(paste(data_path,\"products.csv\", sep=\"\"))\n",
    "order_products <- read.csv(paste(data_path,\"order_products__train.csv\", sep=\"\"))\n",
    "order_products_prior <- read.csv(paste(data_path,\"order_products__prior.csv\", sep=\"\"))\n",
    "aisles <- read.csv(paste(data_path,\"aisles.csv\", sep=\"\"))\n",
    "departments <- read.csv(paste(data_path,\"departments.csv\", sep=\"\"))"
   ]
  },
  {
   "cell_type": "markdown",
   "metadata": {},
   "source": [
    "### Peek at the dataset"
   ]
  },
  {
   "cell_type": "code",
   "execution_count": null,
   "metadata": {
    "collapsed": false
   },
   "outputs": [],
   "source": [
    "head(orders,3)"
   ]
  },
  {
   "cell_type": "code",
   "execution_count": null,
   "metadata": {
    "collapsed": false
   },
   "outputs": [],
   "source": [
    "head(products,3)"
   ]
  },
  {
   "cell_type": "code",
   "execution_count": null,
   "metadata": {
    "collapsed": true
   },
   "outputs": [],
   "source": []
  }
 ],
 "metadata": {
  "kernelspec": {
   "display_name": "R",
   "language": "R",
   "name": "ir"
  },
  "language_info": {
   "codemirror_mode": "r",
   "file_extension": ".r",
   "mimetype": "text/x-r-source",
   "name": "R",
   "pygments_lexer": "r",
   "version": "3.2.0"
  }
 },
 "nbformat": 4,
 "nbformat_minor": 2
}
